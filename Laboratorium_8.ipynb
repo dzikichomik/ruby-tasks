{
 "metadata": {
  "language": "ruby",
  "name": "",
  "signature": "sha256:ea5987be2480365284390e831f5b7e29939c1e11bd0c1a2e3c1a4a6116c0a165"
 },
 "nbformat": 3,
 "nbformat_minor": 0,
 "worksheets": [
  {
   "cells": [
    {
     "cell_type": "heading",
     "level": 1,
     "metadata": {},
     "source": [
      "Zapytania z\u0142o\u017cone"
     ]
    },
    {
     "cell_type": "markdown",
     "metadata": {},
     "source": [
      "Przed rozpocz\u0119ciem pracy konieczne jest skonfigurowanie bazy oraz za\u0142adowanie danych:\n",
      "```ruby\n",
      "$:.unshift \".\"\n",
      "require 'db_setup'\n",
      "require 'db_load'\n",
      "```"
     ]
    },
    {
     "cell_type": "code",
     "collapsed": false,
     "input": [
      "$:.unshift \".\"\n",
      "require 'db_setup'\n",
      "require 'db_load'"
     ],
     "language": "python",
     "metadata": {},
     "outputs": [
      {
       "output_type": "stream",
       "stream": "stdout",
       "text": [
        "==  AddIndicesMigration: migrating ============================================\n"
       ]
      },
      {
       "output_type": "stream",
       "stream": "stdout",
       "text": [
        "==  AddIndicesMigration: migrated (0.0005s) ===================================\n"
       ]
      },
      {
       "output_type": "stream",
       "stream": "stdout",
       "text": [
        "\n"
       ]
      },
      {
       "metadata": {},
       "output_type": "pyout",
       "prompt_number": 12,
       "text": [
        "true"
       ]
      }
     ],
     "prompt_number": 12
    },
    {
     "cell_type": "markdown",
     "metadata": {},
     "source": [
      "W dalszych zadaniach b\u0119dzie wykonywa\u0107 polecenia korzystaj\u0105c z nast\u0119puj\u0105cych klas, zmapowanych na odpowiadaj\u0105ce im \n",
      "table w bazie danych:\n",
      "```ruby\n",
      "class Author < ActiveRecord::Base\n",
      "  # name      (string)\n",
      "  # surname   (string)\n",
      "  # born      (datetime) \n",
      "  # died      (datetime)\n",
      "  # image_url (string)\n",
      "  \n",
      "  has_many :books\n",
      "end\n",
      "\n",
      "class Book < ActiveRecord::Base\n",
      "  # title     (string)\n",
      "  # author    (Author)\n",
      "  # published (integer)\n",
      "\n",
      "  belongs_to :author\n",
      "end\n",
      "```"
     ]
    },
    {
     "cell_type": "markdown",
     "metadata": {},
     "source": [
      "ActiveRecord udost\u0119pnia interfejs pozwalaj\u0105cy wyszukiwa\u0107 dane w bazie r\u00f3wnie\u017c z wykorzystaniem zwi\u0105zk\u00f3w zdefiniowanych pomi\u0119dzy\n",
      "klasami. Do definiowania tych zwi\u0105zk\u00f3w s\u0142u\u017c\u0105 polecenia `has_many`, `belongs_to`, `has_one` oraz `has_and_belongs_to_many`.\n",
      "Przyk\u0142adowo je\u015bli chcemy dowiedzie\u0107 si\u0119 kto by\u0142 autorem pierwszej ksi\u0105\u017cki wykonujemy zapytanie:\n",
      "```ruby\n",
      "book = Book.first\n",
      "puts book.title\n",
      "puts book.author\n",
      "```"
     ]
    },
    {
     "cell_type": "code",
     "collapsed": false,
     "input": [
      "book = Book.first\n",
      "puts book.title\n",
      "puts book.author"
     ],
     "language": "python",
     "metadata": {},
     "outputs": [
      {
       "output_type": "stream",
       "stream": "stdout",
       "text": [
        "V\u00e9gj\u00e1t\u00e9k (reg\u00e9ny)\n"
       ]
      },
      {
       "output_type": "stream",
       "stream": "stdout",
       "text": [
        "#<Author:0x00000002767e90>\n"
       ]
      }
     ],
     "prompt_number": 2
    },
    {
     "cell_type": "markdown",
     "metadata": {},
     "source": [
      "Niestety prezentowany wynik nie jest zbyt u\u017cyteczny. Poniewa\u017c jednak metoda `author` zwraca obiekt, mo\u017cemy na nim wywo\u0142ywa\u0107 \n",
      "metody - tak samo jak w przypadku autora za\u0142adowanego bezpo\u015brednio z wykorzystaniem metod zdefiniowanych dla klasy `Author`\n",
      "```ruby\n",
      "book = Book.first\n",
      "puts book.title\n",
      "puts \"#{book.author.name} #{book.author.surname}\"\n",
      "```"
     ]
    },
    {
     "cell_type": "code",
     "collapsed": false,
     "input": [
      "book = Book.first\n",
      "puts book.title\n",
      "puts \"#{book.author.name} #{book.author.surname}\""
     ],
     "language": "python",
     "metadata": {},
     "outputs": [
      {
       "output_type": "stream",
       "stream": "stdout",
       "text": [
        "V\u00e9gj\u00e1t\u00e9k (reg\u00e9ny)\n"
       ]
      },
      {
       "output_type": "stream",
       "stream": "stdout",
       "text": [
        "Orson Scott Card\n"
       ]
      }
     ],
     "prompt_number": 3
    },
    {
     "cell_type": "markdown",
     "metadata": {},
     "source": [
      "Co wi\u0119cej, je\u015bli mamy do czynienia ze zwi\u0105zkiem jeden-do-wiele b\u0105d\u017a wiele-do-wiele, mo\u017cemy wywy\u0142ywa\u0107 wszystkie dotychczas poznane \n",
      "metody na kolekcji powi\u0105zanych obiekt\u00f3w. Istotnie u\u0142atwia to wyszukiwanie potrzebnych danych:\n",
      "```ruby\n",
      "books = Book.where(\"title like 'A%'\")\n",
      "books.each do |book|\n",
      "  puts book.title\n",
      "end\n",
      "\n",
      "author = Author.where(surname: \"To\u0142stoj\").first\n",
      "books = author.books.where(\"title like 'A%'\")\n",
      "books.each do |book|\n",
      "  puts book.title\n",
      "end\n",
      "```"
     ]
    },
    {
     "cell_type": "code",
     "collapsed": false,
     "input": [
      "books = Book.where(\"title like 'A%'\")\n",
      "books.each do |book|\n",
      "  puts book.title\n",
      "end\n",
      "\n",
      "author = Author.where(surname: \"To\u0142stoj\").first\n",
      "books = author.books.where(\"title like 'A%'\")\n",
      "books.each do |book|\n",
      "  puts book.title\n",
      "end"
     ],
     "language": "python",
     "metadata": {},
     "outputs": [
      {
       "output_type": "stream",
       "stream": "stdout",
       "text": [
        "Anna Karenina\n"
       ]
      },
      {
       "output_type": "stream",
       "stream": "stdout",
       "text": [
        "Azazel (powie\u015b\u0107)\n"
       ]
      },
      {
       "output_type": "stream",
       "stream": "stdout",
       "text": [
        "Anna Karenina\n"
       ]
      },
      {
       "metadata": {},
       "output_type": "pyout",
       "prompt_number": 4,
       "text": [
        "[#<Book id: 33, title: \"Anna Karenina\", language: nil, author_id: 54, published: 1877, image_url: \"http://commons.wikimedia.org/wiki/Special:FilePath...\">]"
       ]
      }
     ],
     "prompt_number": 4
    },
    {
     "cell_type": "markdown",
     "metadata": {},
     "source": [
      "R\u00f3\u017cnica pomi\u0119dzy tymi zapytaniami polega na tym, \u017ce w pierwszym przypadku szukamy ksi\u0105\u017cki, kt\u00f3rych tytu\u0142 zaczyna si\u0119 na \"A\" \n",
      "w ca\u0142ym zbiorze ksi\u0105\u017cek, a w drugi przypadku w\u015br\u00f3d ksi\u0105\u017cek napisanych przez To\u0142stoja."
     ]
    },
    {
     "cell_type": "markdown",
     "metadata": {},
     "source": [
      "Aby umo\u017cliwi\u0107 formatowanie wynik\u00f3w zapytania, IRuby udost\u0119pnia metod\u0119 `IRuby.html`, kt\u00f3ra pozwala na wy\u015bwietlanie kodu\n",
      "HTML. Przyk\u0142adowo\n",
      "```ruby\n",
      "IRuby.html \"<h1>Test HTML-a</h1>\"\n",
      "```"
     ]
    },
    {
     "cell_type": "code",
     "collapsed": false,
     "input": [
      "IRuby.html \"<h1>Test HTML-a</h1>\""
     ],
     "language": "python",
     "metadata": {},
     "outputs": [
      {
       "html": [
        "<h1>Test HTML-a</h1>"
       ],
       "metadata": {},
       "output_type": "pyout",
       "prompt_number": 5,
       "text": [
        "\"<h1>Test HTML-a</h1>\""
       ]
      }
     ],
     "prompt_number": 5
    },
    {
     "cell_type": "markdown",
     "metadata": {},
     "source": [
      "Dzi\u0119ki temu b\u0119dziemy mogli formatowa\u0107 wyniki zapyta\u0144, a wszczeg\u00f3lno\u015bci wy\u015bwietla\u0107 obrazy przedstwiaj\u0105ce autor\u00f3w oraz ksi\u0105\u017cki. \n",
      "Nale\u017cy jednak wzi\u0105\u0107 pod uwag\u0119, \u017ce nie wszystkie ksi\u0105\u017cki oraz nie wszyscy autorzy posiadaj\u0105 odpowiadaj\u0105ce im obrazki.\n",
      "Aby wy\u015bwietli\u0107 imi\u0119, nazwisko oraz obraz pierwszego autora piszemy:\n",
      "```ruby\n",
      "author = Author.where(\"image_url is not null\").first\n",
      "IRuby.html \"<h1>#{author.name} #{author.surname}</h1><img src='#{author.image_url}'/>\"\n",
      "```"
     ]
    },
    {
     "cell_type": "code",
     "collapsed": false,
     "input": [
      "author = Author.where(\"image_url is not null\").first\n",
      "IRuby.html \"<h1>#{author.name} #{author.surname}</h1><img src='#{author.image_url}'/>\""
     ],
     "language": "python",
     "metadata": {},
     "outputs": [
      {
       "html": [
        "<h1>Orson Scott Card</h1><img src='http://commons.wikimedia.org/wiki/Special:FilePath/Orson_Scott_Card_at_BYU_Symposium_20080216_closeup.jpg?width=300'/>"
       ],
       "metadata": {},
       "output_type": "pyout",
       "prompt_number": 6,
       "text": [
        "\"<h1>Orson Scott Card</h1><img src='http://commons.wikimedia.org/wiki/Special:FilePath/Orson_Scott_Card_at_BYU_Symposium_20080216_closeup.jpg?width=300'/>\""
       ]
      }
     ],
     "prompt_number": 6
    },
    {
     "cell_type": "markdown",
     "metadata": {},
     "source": [
      "Mo\u017cemy r\u00f3wnie\u017c zdefniowa\u0107 funkcj\u0119, np. `display_author`, kt\u00f3rej zadaniem b\u0119dzie wy\u015bwietlenie autora w tej postaci. \n",
      "Jedyny problem polega na tym, \u017ce funkcja `IRuby.html` mo\u017ce by\u0107 wywo\u0142ywana tylko raz. Dlatego je\u015bli chcemy wy\u015bwietli\u0107 kilku autor\u00f3w,\n",
      "musimy po\u0142\u0105czy\u0107 odpowiadaj\u0105ce im kody HTML i wynik przekaza\u0107 do funkcji `html`\n",
      "```ruby\n",
      "def display_author(author)\n",
      "  \"<h1>#{author.name} #{author.surname}</h1><img src='#{author.image_url}'/>\"\n",
      "end\n",
      "\n",
      "author_1 = Author.where(\"image_url is not null\").first\n",
      "author_2 = Author.where(\"image_url is not null\").offset(1).first\n",
      "document = display_author(author_1)\n",
      "document += display_author(author_2)\n",
      "IRuby.html document\n",
      "```"
     ]
    },
    {
     "cell_type": "code",
     "collapsed": false,
     "input": [
      "def display_author(author)\n",
      "  \"<h1>#{author.name} #{author.surname}</h1><img src='#{author.image_url}'/>\"\n",
      "end\n",
      "\n",
      "author_1 = Author.where(\"image_url is not null\").first\n",
      "author_2 = Author.where(\"image_url is not null\").offset(1).first\n",
      "document = display_author(author_1)\n",
      "document += display_author(author_2)\n",
      "IRuby.html document"
     ],
     "language": "python",
     "metadata": {},
     "outputs": [
      {
       "html": [
        "<h1>Orson Scott Card</h1><img src='http://commons.wikimedia.org/wiki/Special:FilePath/Orson_Scott_Card_at_BYU_Symposium_20080216_closeup.jpg?width=300'/><h1>Andrzej Sapkowski</h1><img src='http://commons.wikimedia.org/wiki/Special:FilePath/Sapkowski.jpg?width=300'/>"
       ],
       "metadata": {},
       "output_type": "pyout",
       "prompt_number": 7,
       "text": [
        "\"<h1>Orson Scott Card</h1><img src='http://commons.wikimedia.org/wiki/Special:FilePath/Orson_Scott_Card_at_BYU_Symposium_20080216_closeup.jpg?width=300'/><h1>Andrzej Sapkowski</h1><img src='http://commons.wikimedia.org/wiki/Special:FilePath/Sapkowski.jpg?width=300'/>\""
       ]
      }
     ],
     "prompt_number": 7
    },
    {
     "cell_type": "heading",
     "level": 2,
     "metadata": {},
     "source": [
      "Zadania"
     ]
    },
    {
     "cell_type": "heading",
     "level": 3,
     "metadata": {},
     "source": [
      "Zadanie 1"
     ]
    },
    {
     "cell_type": "markdown",
     "metadata": {},
     "source": [
      "Wy\u015bwietl wszystkich autor\u00f3w, kt\u00f3rzy urodzili si\u0119 przed rokiem 1900."
     ]
    },
    {
     "cell_type": "code",
     "collapsed": false,
     "input": [
      "authors = Author.where('born < ?', Date.parse(\"1900-01-01\")).where('born is not null')\n",
      "authors.order(:born).each do |author|\n",
      "  puts \"#{author.name} #{author.surname} #{author.born.strftime(\"%d-%m-%Y\")}\"\n",
      "end"
     ],
     "language": "python",
     "metadata": {},
     "outputs": [
      {
       "output_type": "stream",
       "stream": "stdout",
       "text": [
        "Miko\u0142aj Kopernik 19-02-1473\n"
       ]
      },
      {
       "output_type": "stream",
       "stream": "stdout",
       "text": [
        "William Szekspir 23-04-1564\n"
       ]
      },
      {
       "output_type": "stream",
       "stream": "stdout",
       "text": [
        "Benedykt Chmielowski 20-03-1700\n"
       ]
      },
      {
       "output_type": "stream",
       "stream": "stdout",
       "text": [
        "Adam Mickewicz 24-12-1798\n"
       ]
      },
      {
       "output_type": "stream",
       "stream": "stdout",
       "text": [
        "Adam Mickewicz 24-12-1798\n"
       ]
      },
      {
       "output_type": "stream",
       "stream": "stdout",
       "text": [
        "Adam Mickiewicz 24-12-1798\n"
       ]
      },
      {
       "output_type": "stream",
       "stream": "stdout",
       "text": [
        "Honor\u00e9 de Balzac 20-05-1799\n"
       ]
      },
      {
       "output_type": "stream",
       "stream": "stdout",
       "text": [
        "Aleksander Dumas (ojciec) 24-07-1802\n"
       ]
      },
      {
       "output_type": "stream",
       "stream": "stdout",
       "text": [
        "Juliusz S\u0142owacki 04-09-1809\n"
       ]
      },
      {
       "output_type": "stream",
       "stream": "stdout",
       "text": [
        "Iwan Turgieniew 09-11-1818\n"
       ]
      },
      {
       "output_type": "stream",
       "stream": "stdout",
       "text": [
        "Lew To\u0142stoj 09-09-1828\n"
       ]
      },
      {
       "output_type": "stream",
       "stream": "stdout",
       "text": [
        "Eliza Orzeszkowa 06-06-1841\n"
       ]
      },
      {
       "output_type": "stream",
       "stream": "stdout",
       "text": [
        "Henryk Sienkiewicz 05-05-1846\n"
       ]
      },
      {
       "output_type": "stream",
       "stream": "stdout",
       "text": [
        "Gabriela Zapolska 30-03-1857\n"
       ]
      },
      {
       "output_type": "stream",
       "stream": "stdout",
       "text": [
        "Maria Franciszka Koz\u0142owska 27-05-1862\n"
       ]
      },
      {
       "output_type": "stream",
       "stream": "stdout",
       "text": [
        "Lucy Maud Montgomery 30-11-1874\n"
       ]
      },
      {
       "output_type": "stream",
       "stream": "stdout",
       "text": [
        "Jack London 12-01-1876\n"
       ]
      },
      {
       "output_type": "stream",
       "stream": "stdout",
       "text": [
        "Aleksander Majkowski 17-07-1876\n"
       ]
      },
      {
       "output_type": "stream",
       "stream": "stdout",
       "text": [
        "Franz Kafka 03-07-1883\n"
       ]
      },
      {
       "output_type": "stream",
       "stream": "stdout",
       "text": [
        "Adolf Hitler 20-04-1889\n"
       ]
      },
      {
       "output_type": "stream",
       "stream": "stdout",
       "text": [
        "Howard Phillips Lovecraft 20-08-1890\n"
       ]
      },
      {
       "output_type": "stream",
       "stream": "stdout",
       "text": [
        "John Ronald Reuel Tolkien 03-01-1892\n"
       ]
      },
      {
       "output_type": "stream",
       "stream": "stdout",
       "text": [
        "Aldous Huxley 26-07-1894\n"
       ]
      },
      {
       "output_type": "stream",
       "stream": "stdout",
       "text": [
        "Ilja Ilf 15-10-1897\n"
       ]
      },
      {
       "output_type": "stream",
       "stream": "stdout",
       "text": [
        "Tadeusz Do\u0142\u0119ga-Mostowicz 10-08-1898\n"
       ]
      },
      {
       "output_type": "stream",
       "stream": "stdout",
       "text": [
        "Clive Staples Lewis 29-11-1898\n"
       ]
      },
      {
       "output_type": "stream",
       "stream": "stdout",
       "text": [
        "Vladimir Nabokov 22-04-1899\n"
       ]
      },
      {
       "metadata": {},
       "output_type": "pyout",
       "prompt_number": 80,
       "text": [
        "[#<Author id: 36, name: \"Miko\u0142aj\", surname: \"Kopernik\", born: \"1473-02-19\", died: \"1543-05-24\", image_url: \"http://commons.wikimedia.org/wiki/Special:FilePath...\">, #<Author id: 39, name: \"William\", surname: \"Szekspir\", born: \"1564-04-23\", died: \"1616-05-03\", image_url: \"http://commons.wikimedia.org/wiki/Special:FilePath...\">, #<Author id: 47, name: \"Benedykt\", surname: \"Chmielowski\", born: \"1700-03-20\", died: \"1763-04-07\", image_url: \"http://commons.wikimedia.org/wiki/Special:FilePath...\">, #<Author id: 1, name: \"Adam\", surname: \"Mickewicz\", born: \"1798-12-24\", died: \"1855-11-26\", image_url: nil>, #<Author id: 29, name: \"Adam\", surname: \"Mickewicz\", born: \"1798-12-24\", died: \"1855-11-26\", image_url: nil>, #<Author id: 65, name: \"Adam\", surname: \"Mickiewicz\", born: \"1798-12-24\", died: \"1855-11-26\", image_url: \"http://commons.wikimedia.org/wiki/Special:FilePath...\">, #<Author id: 49, name: \"Honor\u00e9 de\", surname: \"Balzac\", born: \"1799-05-20\", died: \"1850-08-18\", image_url: \"http://commons.wikimedia.org/wiki/Special:FilePath...\">, #<Author id: 42, name: \"Aleksander Dumas\", surname: \"(ojciec)\", born: \"1802-07-24\", died: \"1870-12-05\", image_url: \"http://commons.wikimedia.org/wiki/Special:FilePath...\">, #<Author id: 2, name: \"Juliusz\", surname: \"S\u0142owacki\", born: \"1809-09-04\", died: \"1849-04-03\", image_url: nil>, #<Author id: 68, name: \"Iwan\", surname: \"Turgieniew\", born: \"1818-11-09\", died: \"1883-09-03\", image_url: \"http://commons.wikimedia.org/wiki/Special:FilePath...\">, #<Author id: 54, name: \"Lew\", surname: \"To\u0142stoj\", born: \"1828-09-09\", died: \"1910-11-20\", image_url: \"http://commons.wikimedia.org/wiki/Special:FilePath...\">, #<Author id: 4, name: \"Eliza\", surname: \"Orzeszkowa\", born: \"1841-06-06\", died: \"1910-05-18\", image_url: nil>, #<Author id: 3, name: \"Henryk\", surname: \"Sienkiewicz\", born: \"1846-05-05\", died: \"1916-11-15\", image_url: nil>, #<Author id: 61, name: \"Gabriela\", surname: \"Zapolska\", born: \"1857-03-30\", died: \"1921-12-17\", image_url: \"http://commons.wikimedia.org/wiki/Special:FilePath...\">, #<Author id: 37, name: \"Maria Franciszka\", surname: \"Koz\u0142owska\", born: \"1862-05-27\", died: nil, image_url: \"http://commons.wikimedia.org/wiki/Special:FilePath...\">, #<Author id: 71, name: \"Lucy Maud\", surname: \"Montgomery\", born: \"1874-11-30\", died: \"1942-04-24\", image_url: \"http://commons.wikimedia.org/wiki/Special:FilePath...\">, #<Author id: 32, name: \"Jack\", surname: \"London\", born: \"1876-01-12\", died: \"1916-11-22\", image_url: \"http://commons.wikimedia.org/wiki/Special:FilePath...\">, #<Author id: 77, name: \"Aleksander\", surname: \"Majkowski\", born: \"1876-07-17\", died: \"1938-02-10\", image_url: \"http://commons.wikimedia.org/wiki/Special:FilePath...\">, #<Author id: 50, name: \"Franz\", surname: \"Kafka\", born: \"1883-07-03\", died: \"1924-06-03\", image_url: \"http://commons.wikimedia.org/wiki/Special:FilePath...\">, #<Author id: 45, name: \"Adolf\", surname: \"Hitler\", born: \"1889-04-20\", died: \"1945-04-30\", image_url: \"http://commons.wikimedia.org/wiki/Special:FilePath...\">, #<Author id: 52, name: \"Howard Phillips\", surname: \"Lovecraft\", born: \"1890-08-20\", died: \"1937-03-15\", image_url: \"http://commons.wikimedia.org/wiki/Special:FilePath...\">, #<Author id: 41, name: \"John Ronald Reuel\", surname: \"Tolkien\", born: \"1892-01-03\", died: \"1973-09-02\", image_url: \"http://commons.wikimedia.org/wiki/Special:FilePath...\">, #<Author id: 48, name: \"Aldous\", surname: \"Huxley\", born: \"1894-07-26\", died: \"1963-11-22\", image_url: \"http://commons.wikimedia.org/wiki/Special:FilePath...\">, #<Author id: 59, name: \"Ilja\", surname: \"Ilf\", born: \"1897-10-15\", died: \"1937-04-13\", image_url: \"http://commons.wikimedia.org/wiki/Special:FilePath...\">, #<Author id: 43, name: \"Tadeusz\", surname: \"Do\u0142\u0119ga-Mostowicz\", born: \"1898-08-10\", died: \"1939-09-20\", image_url: \"http://commons.wikimedia.org/wiki/Special:FilePath...\">, #<Author id: 64, name: \"Clive Staples\", surname: \"Lewis\", born: \"1898-11-29\", died: \"1963-11-22\", image_url: \"http://commons.wikimedia.org/wiki/Special:FilePath...\">, #<Author id: 44, name: \"Vladimir\", surname: \"Nabokov\", born: \"1899-04-22\", died: \"1977-07-02\", image_url: \"http://commons.wikimedia.org/wiki/Special:FilePath...\">]"
       ]
      }
     ],
     "prompt_number": 80
    },
    {
     "cell_type": "heading",
     "level": 3,
     "metadata": {},
     "source": [
      "Zadanie 2"
     ]
    },
    {
     "cell_type": "markdown",
     "metadata": {},
     "source": [
      "Zmodyfikuj funkcj\u0119 wy\u015bwietlaj\u0105c\u0105 autor\u00f3w tak aby obejmowa\u0142a ich dat\u0119 urodzin i \u015bmierci w formacie `dzie\u0144.miesi\u0105c.rok`. Nast\u0119pnie wy\u015bwietl wszystkich autor\u00f3w, kt\u00f3rzy zmarli w XX wieku."
     ]
    },
    {
     "cell_type": "code",
     "collapsed": false,
     "input": [
      "def display_author(author)\n",
      "  \"#{author.name} #{author.surname} #{author.born.strftime(\"%d-%m-%Y\")} #{author.died.strftime(\"%d-%m-%Y\")}\"\n",
      "end\n",
      "\n",
      "Author.where(died: (Date.parse(\"1901-1-1\")..Date.parse(\"2000-12-31\"))).each do |author|\n",
      "  puts display_author(author)\n",
      "end"
     ],
     "language": "python",
     "metadata": {},
     "outputs": [
      {
       "output_type": "stream",
       "stream": "stdout",
       "text": [
        "Henryk Sienkiewicz 05-05-1846 15-11-1916\n"
       ]
      },
      {
       "output_type": "stream",
       "stream": "stdout",
       "text": [
        "Eliza Orzeszkowa 06-06-1841 18-05-1910\n"
       ]
      },
      {
       "output_type": "stream",
       "stream": "stdout",
       "text": [
        "Jack London 12-01-1876 22-11-1916\n"
       ]
      },
      {
       "output_type": "stream",
       "stream": "stdout",
       "text": [
        "Antoni Go\u0142ubiew 25-02-1907 27-06-1979\n"
       ]
      },
      {
       "output_type": "stream",
       "stream": "stdout",
       "text": [
        "George Orwell 25-06-1903 21-01-1950\n"
       ]
      },
      {
       "output_type": "stream",
       "stream": "stdout",
       "text": [
        "John Ronald Reuel Tolkien 03-01-1892 02-09-1973\n"
       ]
      },
      {
       "output_type": "stream",
       "stream": "stdout",
       "text": [
        "Tadeusz Do\u0142\u0119ga-Mostowicz 10-08-1898 20-09-1939\n"
       ]
      },
      {
       "output_type": "stream",
       "stream": "stdout",
       "text": [
        "Vladimir Nabokov 22-04-1899 02-07-1977\n"
       ]
      },
      {
       "output_type": "stream",
       "stream": "stdout",
       "text": [
        "Adolf Hitler 20-04-1889 30-04-1945\n"
       ]
      },
      {
       "output_type": "stream",
       "stream": "stdout",
       "text": [
        "Aldous Huxley 26-07-1894 22-11-1963\n"
       ]
      },
      {
       "output_type": "stream",
       "stream": "stdout",
       "text": [
        "Franz Kafka 03-07-1883 03-06-1924\n"
       ]
      },
      {
       "output_type": "stream",
       "stream": "stdout",
       "text": [
        "Howard Phillips Lovecraft 20-08-1890 15-03-1937\n"
       ]
      },
      {
       "output_type": "stream",
       "stream": "stdout",
       "text": [
        "Karol Olgierd Borchardt 25-03-1905 20-05-1986\n"
       ]
      },
      {
       "output_type": "stream",
       "stream": "stdout",
       "text": [
        "Lew To\u0142stoj 09-09-1828 20-11-1910\n"
       ]
      },
      {
       "output_type": "stream",
       "stream": "stdout",
       "text": [
        "Janusz Zajdel 15-08-1938 19-07-1985\n"
       ]
      },
      {
       "output_type": "stream",
       "stream": "stdout",
       "text": [
        "Isaac Asimov 04-10-1919 06-04-1992\n"
       ]
      },
      {
       "output_type": "stream",
       "stream": "stdout",
       "text": [
        "Ilja Ilf 15-10-1897 13-04-1937\n"
       ]
      },
      {
       "output_type": "stream",
       "stream": "stdout",
       "text": [
        "Jewgienij Pietrow (pisarz) 13-12-1903 02-07-1942\n"
       ]
      },
      {
       "output_type": "stream",
       "stream": "stdout",
       "text": [
        "Gabriela Zapolska 30-03-1857 17-12-1921\n"
       ]
      },
      {
       "output_type": "stream",
       "stream": "stdout",
       "text": [
        "Clive Staples Lewis 29-11-1898 22-11-1963\n"
       ]
      },
      {
       "output_type": "stream",
       "stream": "stdout",
       "text": [
        "Lucy Maud Montgomery 30-11-1874 24-04-1942\n"
       ]
      },
      {
       "output_type": "stream",
       "stream": "stdout",
       "text": [
        "Alfred Szklarski 21-01-1912 09-04-1992\n"
       ]
      },
      {
       "output_type": "stream",
       "stream": "stdout",
       "text": [
        "Aleksander Majkowski 17-07-1876 10-02-1938\n"
       ]
      },
      {
       "output_type": "stream",
       "stream": "stdout",
       "text": [
        "Ian Fleming 28-05-1908 12-08-1964\n"
       ]
      },
      {
       "metadata": {},
       "output_type": "pyout",
       "prompt_number": 77,
       "text": [
        "[#<Author id: 3, name: \"Henryk\", surname: \"Sienkiewicz\", born: \"1846-05-05\", died: \"1916-11-15\", image_url: nil>, #<Author id: 4, name: \"Eliza\", surname: \"Orzeszkowa\", born: \"1841-06-06\", died: \"1910-05-18\", image_url: nil>, #<Author id: 32, name: \"Jack\", surname: \"London\", born: \"1876-01-12\", died: \"1916-11-22\", image_url: \"http://commons.wikimedia.org/wiki/Special:FilePath...\">, #<Author id: 35, name: \"Antoni\", surname: \"Go\u0142ubiew\", born: \"1907-02-25\", died: \"1979-06-27\", image_url: \"http://commons.wikimedia.org/wiki/Special:FilePath...\">, #<Author id: 38, name: \"George\", surname: \"Orwell\", born: \"1903-06-25\", died: \"1950-01-21\", image_url: \"http://commons.wikimedia.org/wiki/Special:FilePath...\">, #<Author id: 41, name: \"John Ronald Reuel\", surname: \"Tolkien\", born: \"1892-01-03\", died: \"1973-09-02\", image_url: \"http://commons.wikimedia.org/wiki/Special:FilePath...\">, #<Author id: 43, name: \"Tadeusz\", surname: \"Do\u0142\u0119ga-Mostowicz\", born: \"1898-08-10\", died: \"1939-09-20\", image_url: \"http://commons.wikimedia.org/wiki/Special:FilePath...\">, #<Author id: 44, name: \"Vladimir\", surname: \"Nabokov\", born: \"1899-04-22\", died: \"1977-07-02\", image_url: \"http://commons.wikimedia.org/wiki/Special:FilePath...\">, #<Author id: 45, name: \"Adolf\", surname: \"Hitler\", born: \"1889-04-20\", died: \"1945-04-30\", image_url: \"http://commons.wikimedia.org/wiki/Special:FilePath...\">, #<Author id: 48, name: \"Aldous\", surname: \"Huxley\", born: \"1894-07-26\", died: \"1963-11-22\", image_url: \"http://commons.wikimedia.org/wiki/Special:FilePath...\">, #<Author id: 50, name: \"Franz\", surname: \"Kafka\", born: \"1883-07-03\", died: \"1924-06-03\", image_url: \"http://commons.wikimedia.org/wiki/Special:FilePath...\">, #<Author id: 52, name: \"Howard Phillips\", surname: \"Lovecraft\", born: \"1890-08-20\", died: \"1937-03-15\", image_url: \"http://commons.wikimedia.org/wiki/Special:FilePath...\">, #<Author id: 53, name: \"Karol Olgierd\", surname: \"Borchardt\", born: \"1905-03-25\", died: \"1986-05-20\", image_url: \"http://commons.wikimedia.org/wiki/Special:FilePath...\">, #<Author id: 54, name: \"Lew\", surname: \"To\u0142stoj\", born: \"1828-09-09\", died: \"1910-11-20\", image_url: \"http://commons.wikimedia.org/wiki/Special:FilePath...\">, #<Author id: 56, name: \"Janusz\", surname: \"Zajdel\", born: \"1938-08-15\", died: \"1985-07-19\", image_url: \"http://commons.wikimedia.org/wiki/Special:FilePath...\">, #<Author id: 58, name: \"Isaac\", surname: \"Asimov\", born: \"1919-10-04\", died: \"1992-04-06\", image_url: \"http://commons.wikimedia.org/wiki/Special:FilePath...\">, #<Author id: 59, name: \"Ilja\", surname: \"Ilf\", born: \"1897-10-15\", died: \"1937-04-13\", image_url: \"http://commons.wikimedia.org/wiki/Special:FilePath...\">, #<Author id: 60, name: \"Jewgienij Pietrow\", surname: \"(pisarz)\", born: \"1903-12-13\", died: \"1942-07-02\", image_url: \"http://commons.wikimedia.org/wiki/Special:FilePath...\">, #<Author id: 61, name: \"Gabriela\", surname: \"Zapolska\", born: \"1857-03-30\", died: \"1921-12-17\", image_url: \"http://commons.wikimedia.org/wiki/Special:FilePath...\">, #<Author id: 64, name: \"Clive Staples\", surname: \"Lewis\", born: \"1898-11-29\", died: \"1963-11-22\", image_url: \"http://commons.wikimedia.org/wiki/Special:FilePath...\">, #<Author id: 71, name: \"Lucy Maud\", surname: \"Montgomery\", born: \"1874-11-30\", died: \"1942-04-24\", image_url: \"http://commons.wikimedia.org/wiki/Special:FilePath...\">, #<Author id: 73, name: \"Alfred\", surname: \"Szklarski\", born: \"1912-01-21\", died: \"1992-04-09\", image_url: \"http://commons.wikimedia.org/wiki/Special:FilePath...\">, #<Author id: 77, name: \"Aleksander\", surname: \"Majkowski\", born: \"1876-07-17\", died: \"1938-02-10\", image_url: \"http://commons.wikimedia.org/wiki/Special:FilePath...\">, #<Author id: 78, name: \"Ian\", surname: \"Fleming\", born: \"1908-05-28\", died: \"1964-08-12\", image_url: \"http://commons.wikimedia.org/wiki/Special:FilePath...\">]"
       ]
      }
     ],
     "prompt_number": 77
    },
    {
     "cell_type": "heading",
     "level": 3,
     "metadata": {},
     "source": [
      "Zadanie 3"
     ]
    },
    {
     "cell_type": "markdown",
     "metadata": {},
     "source": [
      "Wy\u015bwietl 5 najm\u0142odszych autor\u00f3w, kt\u00f3rzy posiadaj\u0105 przypisane zdj\u0119cie."
     ]
    },
    {
     "cell_type": "code",
     "collapsed": false,
     "input": [
      "Author.where(\"image_url is not null\").order(:born).last(5).each do |author|\n",
      "  puts \"#{author.name} #{author.surname}  #{author.born}\"\n",
      "end"
     ],
     "language": "python",
     "metadata": {},
     "outputs": [
      {
       "output_type": "stream",
       "stream": "stdout",
       "text": [
        "Orson Scott Card  1951-08-24\n"
       ]
      },
      {
       "output_type": "stream",
       "stream": "stdout",
       "text": [
        "Boris Akunin  1956-05-20\n"
       ]
      },
      {
       "output_type": "stream",
       "stream": "stdout",
       "text": [
        "Rafa\u0142 A. Ziemkiewicz  1964-09-13\n"
       ]
      },
      {
       "output_type": "stream",
       "stream": "stdout",
       "text": [
        "J. K. Rowling  1965-07-31\n"
       ]
      },
      {
       "output_type": "stream",
       "stream": "stdout",
       "text": [
        "Andrzej Pilipiuk  1974-03-20\n"
       ]
      },
      {
       "metadata": {},
       "output_type": "pyout",
       "prompt_number": 83,
       "text": [
        "[#<Author id: 30, name: \"Orson Scott\", surname: \"Card\", born: \"1951-08-24\", died: nil, image_url: \"http://commons.wikimedia.org/wiki/Special:FilePath...\">, #<Author id: 55, name: \"Boris\", surname: \"Akunin\", born: \"1956-05-20\", died: nil, image_url: \"http://commons.wikimedia.org/wiki/Special:FilePath...\">, #<Author id: 75, name: \"Rafa\u0142 A.\", surname: \"Ziemkiewicz\", born: \"1964-09-13\", died: nil, image_url: \"http://commons.wikimedia.org/wiki/Special:FilePath...\">, #<Author id: 40, name: \"J. K.\", surname: \"Rowling\", born: \"1965-07-31\", died: nil, image_url: \"http://commons.wikimedia.org/wiki/Special:FilePath...\">, #<Author id: 66, name: \"Andrzej\", surname: \"Pilipiuk\", born: \"1974-03-20\", died: nil, image_url: \"http://commons.wikimedia.org/wiki/Special:FilePath...\">]"
       ]
      }
     ],
     "prompt_number": 83
    },
    {
     "cell_type": "heading",
     "level": 3,
     "metadata": {},
     "source": [
      "Zadanie 4"
     ]
    },
    {
     "cell_type": "markdown",
     "metadata": {},
     "source": [
      "Zdefiniuj funkcj\u0119 `display_book`, kt\u00f3ra b\u0119dzie zwraca\u0142a fragment kodu HTML obejmuj\u0105cy tytu\u0142 ksi\u0105\u017cki, rok jej wydania oraz\n",
      "przypisany obrazek.\n",
      "Wy\u015bwietl najwcze\u015bniej wydan\u0105 ksi\u0105\u017ck\u0119."
     ]
    },
    {
     "cell_type": "code",
     "collapsed": false,
     "input": [
      "def display_book(book)\n",
      "  if book.published != nil\n",
      "    \"<h1>#{book.title} #{book.published} </h1><img src='#{book.image_url}'/>\"\n",
      "  else\n",
      "    \"<h1>#{book.title} Brak danych o dacie publikacji. </h1><img src='#{book.image_url}'/>\"\n",
      "  end\n",
      "end\n",
      "\n",
      "book = Book.order(:published).where(\"published is not null and published != 0\").first\n",
      "document = display_book(book)\n",
      "\n",
      "IRuby.html document"
     ],
     "language": "python",
     "metadata": {},
     "outputs": [
      {
       "html": [
        "<h1>De revolutionibus orbium coelestium 1543 </h1><img src=''/>"
       ],
       "metadata": {},
       "output_type": "pyout",
       "prompt_number": 16,
       "text": [
        "\"<h1>De revolutionibus orbium coelestium 1543 </h1><img src=''/>\""
       ]
      }
     ],
     "prompt_number": 16
    },
    {
     "cell_type": "heading",
     "level": 3,
     "metadata": {},
     "source": [
      "Zadanie 5"
     ]
    },
    {
     "cell_type": "markdown",
     "metadata": {},
     "source": [
      "Wy\u015bwietl wszystkie ksi\u0105\u017cki, kt\u00f3re nie maj\u0105 przypisanego roku wydania."
     ]
    },
    {
     "cell_type": "code",
     "collapsed": false,
     "input": [
      "book = Book.where(\"published is null or published = 0\")\n",
      "book.each do |book| \n",
      "  puts \"#{book.title}\" + \" - \" + \"#{book.author.name} #{book.author.surname}\"\n",
      "end"
     ],
     "language": "python",
     "metadata": {},
     "outputs": [
      {
       "output_type": "stream",
       "stream": "stdout",
       "text": [
        "V\u00e9gj\u00e1t\u00e9k (reg\u00e9ny) - Orson Scott Card\n"
       ]
      },
      {
       "output_type": "stream",
       "stream": "stdout",
       "text": [
        "Hamlet - William Szekspir\n"
       ]
      },
      {
       "output_type": "stream",
       "stream": "stdout",
       "text": [
        "Ojcowie i dzieci - Iwan Turgieniew\n"
       ]
      },
      {
       "metadata": {},
       "output_type": "pyout",
       "prompt_number": 25,
       "text": [
        "[#<Book id: 1, title: \"V\u00e9gj\u00e1t\u00e9k (reg\u00e9ny)\", language: nil, author_id: 30, published: nil, image_url: nil>, #<Book id: 10, title: \"Hamlet\", language: nil, author_id: 39, published: nil, image_url: \"http://commons.wikimedia.org/wiki/Special:FilePath...\">, #<Book id: 65, title: \"Ojcowie i dzieci\", language: nil, author_id: 68, published: 0, image_url: \"http://commons.wikimedia.org/wiki/Special:FilePath...\">]"
       ]
      }
     ],
     "prompt_number": 25
    },
    {
     "cell_type": "heading",
     "level": 3,
     "metadata": {},
     "source": [
      "Zadanie 6"
     ]
    },
    {
     "cell_type": "markdown",
     "metadata": {},
     "source": [
      "Zmodyfikuj funkcj\u0119 `display_author` tak, aby wy\u015bwietla\u0142a r\u00f3wnie\u017c wszystkie ksi\u0105\u017cki napisane przez autora. U\u017cyj znacznika `<ul>`.\n",
      "Korzystaj\u0105c z tej funkcji wy\u015bwietl opis Stanis\u0142awa Lema."
     ]
    },
    {
     "cell_type": "code",
     "collapsed": false,
     "input": [
      "def display_author(author)\n",
      "  author = Author.where(surname: author).first\n",
      "  books = author.books\n",
      "  html = \"<h1>#{author.name} #{author.surname}</h1>\"\n",
      "  html << \"<ul>\"\n",
      "    books.each do |book| \n",
      "      html << \"<li>#{book.title}\" + \" - \" + \"#{book.published}</li>\"\n",
      "    end\n",
      "  html << \"</ul>\"\n",
      "end\n",
      "\n",
      "document = display_author(\"Lem\")\n",
      "IRuby.html document"
     ],
     "language": "python",
     "metadata": {},
     "outputs": [
      {
       "html": [
        "<h1>Stanis\u0142aw Lem</h1><ul><li>Bajki robot\u00f3w - 1964</li><li>Solaris (powie\u015b\u0107) - 1961</li><li>Bezsenno\u015b\u0107 (zbi\u00f3r opowiada\u0144) - 1971</li><li>G\u0142os Pana - 1968</li><li>Inwazja z Aldebarana (zbi\u00f3r opowiada\u0144) - 1959</li><li>Katar (powie\u015b\u0107) - 1976</li><li>Ksi\u0119ga robot\u00f3w - 1961</li><li>Maska (zbi\u00f3r dzie\u0142) - 1976</li><li>Niezwyci\u0119\u017cony i inne opowiadania - 1964</li><li>Noc ksi\u0119\u017cycowa - 1963</li><li>Pami\u0119tnik znaleziony w wannie - 1961</li><li>Polowanie (zbi\u00f3r opowiada\u0144) - 1965</li><li>Powt\u00f3rka (zbi\u00f3r dzie\u0142) - 1979</li><li>Po\u017cytek ze smoka - 1993</li><li>Rasa drapie\u017cc\u00f3w. Teksty ostatnie - 2006</li><li>Sezam i inne opowiadania - 1954</li><li>Summa technologiae - 1964</li><li>Wizja lokalna (powie\u015b\u0107) - 1982</li></ul>"
       ],
       "metadata": {},
       "output_type": "pyout",
       "prompt_number": 49,
       "text": [
        "\"<h1>Stanis\u0142aw Lem</h1><ul><li>Bajki robot\u00f3w - 1964</li><li>Solaris (powie\u015b\u0107) - 1961</li><li>Bezsenno\u015b\u0107 (zbi\u00f3r opowiada\u0144) - 1971</li><li>G\u0142os Pana - 1968</li><li>Inwazja z Aldebarana (zbi\u00f3r opowiada\u0144) - 1959</li><li>Katar (powie\u015b\u0107) - 1976</li><li>Ksi\u0119ga robot\u00f3w - 1961</li><li>Maska (zbi\u00f3r dzie\u0142) - 1976</li><li>Niezwyci\u0119\u017cony i inne opowiadania - 1964</li><li>Noc ksi\u0119\u017cycowa - 1963</li><li>Pami\u0119tnik znaleziony w wannie - 1961</li><li>Polowanie (zbi\u00f3r opowiada\u0144) - 1965</li><li>Powt\u00f3rka (zbi\u00f3r dzie\u0142) - 1979</li><li>Po\u017cytek ze smoka - 1993</li><li>Rasa drapie\u017cc\u00f3w. Teksty ostatnie - 2006</li><li>Sezam i inne opowiadania - 1954</li><li>Summa technologiae - 1964</li><li>Wizja lokalna (powie\u015b\u0107) - 1982</li></ul>\""
       ]
      }
     ],
     "prompt_number": 49
    },
    {
     "cell_type": "heading",
     "level": 3,
     "metadata": {},
     "source": [
      "Zadanie 7"
     ]
    },
    {
     "cell_type": "markdown",
     "metadata": {},
     "source": [
      "W\u015br\u00f3d ksi\u0105\u017cek napisanych przez Lema wy\u015bwietl wszystkie, kt\u00f3re zawieraja w tytule s\u0142owo \"zbi\u00f3r\"."
     ]
    },
    {
     "cell_type": "code",
     "collapsed": false,
     "input": [
      "def display_author(author)\n",
      "  author = Author.where(surname: author).first\n",
      "  books = author.books.where(\"title like '%zbi\u00f3r%'\")\n",
      "  html = \"<h1>#{author.name} #{author.surname}</h1>\"\n",
      "  html << \"<ul>\"\n",
      "    books.each do |book| \n",
      "      html << \"<li>#{book.title}\" + \" - \" + \"#{book.published}</li>\"\n",
      "    end\n",
      "  html << \"</ul>\"\n",
      "end\n",
      "\n",
      "document = display_author(\"Lem\")\n",
      "IRuby.html document"
     ],
     "language": "python",
     "metadata": {},
     "outputs": [
      {
       "html": [
        "<h1>Stanis\u0142aw Lem</h1><ul><li>Bezsenno\u015b\u0107 (zbi\u00f3r opowiada\u0144) - 1971</li><li>Inwazja z Aldebarana (zbi\u00f3r opowiada\u0144) - 1959</li><li>Maska (zbi\u00f3r dzie\u0142) - 1976</li><li>Polowanie (zbi\u00f3r opowiada\u0144) - 1965</li><li>Powt\u00f3rka (zbi\u00f3r dzie\u0142) - 1979</li></ul>"
       ],
       "metadata": {},
       "output_type": "pyout",
       "prompt_number": 45,
       "text": [
        "\"<h1>Stanis\u0142aw Lem</h1><ul><li>Bezsenno\u015b\u0107 (zbi\u00f3r opowiada\u0144) - 1971</li><li>Inwazja z Aldebarana (zbi\u00f3r opowiada\u0144) - 1959</li><li>Maska (zbi\u00f3r dzie\u0142) - 1976</li><li>Polowanie (zbi\u00f3r opowiada\u0144) - 1965</li><li>Powt\u00f3rka (zbi\u00f3r dzie\u0142) - 1979</li></ul>\""
       ]
      }
     ],
     "prompt_number": 45
    },
    {
     "cell_type": "heading",
     "level": 3,
     "metadata": {},
     "source": [
      "Zadanie 8"
     ]
    },
    {
     "cell_type": "markdown",
     "metadata": {},
     "source": [
      "W\u015br\u00f3d ksi\u0105\u017cek napisanych przez Lema wy\u015bwietl te, kt\u00f3re zosta\u0142y wydane w roku jego \u015bmierci."
     ]
    },
    {
     "cell_type": "code",
     "collapsed": false,
     "input": [
      "def display_author(author)\n",
      "  author = Author.where(surname: author).first\n",
      "  books = author.books.where(\"published = ?\", author.died.year)\n",
      "  html = \"<h1>#{author.name} #{author.surname}</h1>\"\n",
      "  html << \"<ul>\"\n",
      "    books.each do |book| \n",
      "      html << \"<li>#{book.title}\" + \" - \" + \"#{book.published}</li>\"\n",
      "    end\n",
      "  html << \"</ul>\"\n",
      "end\n",
      "\n",
      "document = display_author(\"Lem\")\n",
      "IRuby.html document"
     ],
     "language": "python",
     "metadata": {},
     "outputs": [
      {
       "html": [
        "<h1>Stanis\u0142aw Lem</h1><ul><li>Rasa drapie\u017cc\u00f3w. Teksty ostatnie - 2006</li></ul>"
       ],
       "metadata": {},
       "output_type": "pyout",
       "prompt_number": 52,
       "text": [
        "\"<h1>Stanis\u0142aw Lem</h1><ul><li>Rasa drapie\u017cc\u00f3w. Teksty ostatnie - 2006</li></ul>\""
       ]
      }
     ],
     "prompt_number": 52
    },
    {
     "cell_type": "heading",
     "level": 3,
     "metadata": {},
     "source": [
      "Zadanie 9"
     ]
    },
    {
     "cell_type": "markdown",
     "metadata": {},
     "source": [
      "Wy\u015bwietl wszystkie ksi\u0105\u017cki znajduj\u0105ce si\u0119 w bazie. Opis powinien zawiera\u0107 tytu\u0142, imi\u0119 i nazwisko autora, rok wydania oraz \n",
      "obraz przedstawiaj\u0105cy ksi\u0105\u017ck\u0119 (o ile istnieje)."
     ]
    },
    {
     "cell_type": "code",
     "collapsed": false,
     "input": [
      "def display_book()\n",
      "  books = Book.all\n",
      "  html = \"<h1>Lista ksi\u0105\u017cek</h1>\"\n",
      "  html << \"<ul>\"\n",
      "    books.each do |book| \n",
      "      html << (\"<li>#{book.title}\" + \" - \" + \"#{book.author.name} #{book.author.surname}\" + \",\" + \" #{book.published}\")\n",
      "      html.chomp!(\", \")\n",
      "      html << \"</li>\"\n",
      "        if (book.image_url != nil)\n",
      "      html << \" <img src='#{book.image_url}'/>\"\n",
      "    end\n",
      "    end\n",
      "  html << \"</ul>\"\n",
      "end\n",
      "\n",
      "document = display_book()\n",
      "IRuby.html document\n"
     ],
     "language": "python",
     "metadata": {},
     "outputs": [
      {
       "html": [
        "<h1>Lista ksi\u0105\u017cek</h1><ul><li>V\u00e9gj\u00e1t\u00e9k (reg\u00e9ny) - Orson Scott Card</li><li>Pani Jeziora (powie\u015b\u0107) - Andrzej Sapkowski, 1999</li><li>Bellew Zawierucha - Jack London, 1912</li><li>Fa\u0142szywy trop (powie\u015b\u0107) - Henning Mankell, 1995</li><li>Bajki robot\u00f3w - Stanis\u0142aw Lem, 1964</li><li>Boles\u0142aw Chrobry (powie\u015b\u0107) - Antoni Go\u0142ubiew, 1947</li><li>De revolutionibus orbium coelestium - Miko\u0142aj Kopernik, 1543</li><li>Dzie\u0142o Wielkiego Mi\u0142osierdzia - Maria Franciszka Koz\u0142owska, 1922</li><li>Folwark zwierz\u0119cy - George Orwell, 1945</li> <img src='http://commons.wikimedia.org/wiki/Special:FilePath/Animalism_flag.svg?width=300'/><li>Hamlet - William Szekspir</li> <img src='http://commons.wikimedia.org/wiki/Special:FilePath/Hamlet_quarto_3rd.jpg?width=300'/><li>Harry Potter - J. K. Rowling, 1997</li> <img src='http://commons.wikimedia.org/wiki/Special:FilePath/Harry_Potter_wordmark.svg?width=300'/><li>Hobbit, czyli tam i z powrotem - John Ronald Reuel Tolkien, 1937</li><li>Hrabia Monte Christo - Aleksander Dumas (ojciec), 1844</li> <img src='http://commons.wikimedia.org/wiki/Special:FilePath/Louis_Fran\u00e7ais-Dant\u00e8s_sur_son_rocher.jpg?width=300'/><li>Kariera Nikodema Dyzmy - Tadeusz Do\u0142\u0119ga-Mostowicz, 1932</li><li>Krzy\u017cacy (powie\u015b\u0107) - Henryk Sienkiewicz, 1900</li> <img src='http://commons.wikimedia.org/wiki/Special:FilePath/PL_Henryk_Sienkiewicz-Krzy\u017cacy_0005.jpeg?width=300'/><li>Lolita - Vladimir Nabokov, 1955</li><li>Mein Kampf - Adolf Hitler, 1925</li> <img src='http://commons.wikimedia.org/wiki/Special:FilePath/Landsberg.Jail.jpg?width=300'/><li>Nad Niemnem - Eliza Orzeszkowa, 1888</li> <img src='http://commons.wikimedia.org/wiki/Special:FilePath/Nad_Niemnem_-_manuscript.jpg?width=300'/><li>Niedoko\u0144czone opowie\u015bci - Christopher Tolkien, 1980</li><li>Nowe Ateny - Benedykt Chmielowski, 1745</li> <img src='http://commons.wikimedia.org/wiki/Special:FilePath/Nowe_ateny1.jpg?width=300'/><li>Nowy wspania\u0142y \u015bwiat - Aldous Huxley, 1932</li><li>Ogniem i mieczem - Henryk Sienkiewicz, 1884</li> <img src='http://commons.wikimedia.org/wiki/Special:FilePath/Podbipieta.JPG?width=300'/><li>Ojciec Goriot - Honor\u00e9 de Balzac, 1835</li> <img src='http://commons.wikimedia.org/wiki/Special:FilePath/Father_Goriot_by_H._Daumier_(1842).JPG?width=300'/><li>Proces (powie\u015b\u0107) - Franz Kafka, 1925</li> <img src='http://commons.wikimedia.org/wiki/Special:FilePath/Kafka_Der_Prozess_1925.jpg?width=300'/><li>Psa\u0142terz Dawid\u00f3w - Jan Kochanowski, 1579</li> <img src='http://commons.wikimedia.org/wiki/Special:FilePath/Kochanowski_-_Psa\u0142terz_Dawid\u00f3w_(1579).jpg?width=300'/><li>Quo vadis - Henryk Sienkiewicz, 1896</li> <img src='http://commons.wikimedia.org/wiki/Special:FilePath/Rzym_popiersie_Sienkiewicza_w_kosciele_Domine_Quo_Vadis.JPG?width=300'/><li>Romeo i Julia - William Szekspir, 1597</li> <img src='http://commons.wikimedia.org/wiki/Special:FilePath/Romeo_and_juliet_brown.jpg?width=300'/><li>Silmarillion - John Ronald Reuel Tolkien, 1977</li> <img src='http://commons.wikimedia.org/wiki/Special:FilePath/Silmarrillion,_Just_under_the_Cover.jpg?width=300'/><li>Solaris (powie\u015b\u0107) - Stanis\u0142aw Lem, 1961</li> <img src='http://commons.wikimedia.org/wiki/Special:FilePath/Solaris,_various_editions_02.jpg?width=300'/><li>W\u0142adca Pier\u015bcieni - John Ronald Reuel Tolkien, 1954</li> <img src='http://commons.wikimedia.org/wiki/Special:FilePath/Unico_Anello.png?width=300'/><li>Zew Cthulhu (opowiadanie) - Howard Phillips Lovecraft, 1928</li><li>Znaczy Kapitan - Karol Olgierd Borchardt, 1960</li><li>Anna Karenina - Lew To\u0142stoj, 1877</li> <img src='http://commons.wikimedia.org/wiki/Special:FilePath/AnnaKareninaTitle.jpg?width=300'/><li>Azazel (powie\u015b\u0107) - Boris Akunin, 1998</li><li>Bezsenno\u015b\u0107 (zbi\u00f3r opowiada\u0144) - Stanis\u0142aw Lem, 1971</li><li>Ca\u0142a prawda o planecie Ksi - Janusz Zajdel, 1983</li><li>Dekorator - Boris Akunin, 1998</li><li>Diamentowa karoca - Boris Akunin, 2003</li><li>Dives in misericordia - Jan Pawe\u0142 II, 1980</li> <img src='http://commons.wikimedia.org/wiki/Special:FilePath/John_paul_2_coa.svg?width=300'/><li>Droga na molo w Wigan - George Orwell, 1937</li><li>Druga Fundacja - Isaac Asimov, 1953</li><li>Dwana\u015bcie krzese\u0142 - Ilja Ilf, 1928</li> <img src='http://commons.wikimedia.org/wiki/Special:FilePath/Ostap_Bender_Monument_in_Kharkiv.jpg?width=300'/><li>Fundacja (powie\u015b\u0107) - Isaac Asimov, 1951</li><li>Fundacja i Imperium - Isaac Asimov, 1952</li><li>Gambit turecki - Boris Akunin, 1998</li><li>G\u0142os Pana - Stanis\u0142aw Lem, 1968</li><li>Ich czworo - Gabriela Zapolska, 1907</li><li>Inwazja z Aldebarana (zbi\u00f3r opowiada\u0144) - Stanis\u0142aw Lem, 1959</li><li>Kamienna ma\u0142pa - Jeffery Deaver, 2002</li><li>Katar (powie\u015b\u0107) - Stanis\u0142aw Lem, 1976</li><li>Kochanek \u015amierci - Boris Akunin, 2001</li><li>Kochanka \u015amierci - Boris Akunin, 2001</li><li>Koronacja (powie\u015b\u0107) - Boris Akunin, 1999</li><li>Kot w stanie czystym - Terry Pratchett, 1989</li><li>Ko\u0144 i jego ch\u0142opiec - Clive Staples Lewis, 1954</li><li>Ksi\u0119ga robot\u00f3w - Stanis\u0142aw Lem, 1961</li><li>Ksi\u0119gi narodu polskiego i pielgrzymstwa polskiego - Adam Mickiewicz, 1832</li> <img src='http://commons.wikimedia.org/wiki/Special:FilePath/PL_Ksi\u0119gi_narodu_polskiego_i_pielgrzymstwa_polskiego_008.png?width=300'/><li>Kuzynki - Andrzej Pilipiuk, 2003</li><li>Lewa r\u0119ka ciemno\u015bci - Ursula K. Le Guin, 1969</li><li>Lewiatan (powie\u015b\u0107) - Boris Akunin, 1998</li><li>Mag (powie\u015b\u0107 J. Deavera) - Jeffery Deaver, 2003</li><li>Maska (zbi\u00f3r dzie\u0142) - Stanis\u0142aw Lem, 1976</li><li>Niezwyci\u0119\u017cony i inne opowiadania - Stanis\u0142aw Lem, 1964</li><li>Noc ksi\u0119\u017cycowa - Stanis\u0142aw Lem, 1963</li><li>Ojcowie i dzieci - Iwan Turgieniew, 0</li> <img src='http://commons.wikimedia.org/wiki/Special:FilePath/Otsy1880.jpg?width=300'/><li>Pami\u0119tnik znaleziony w wannie - Stanis\u0142aw Lem, 1961</li><li>Pie\u015b\u0144 Lodu i Ognia - George R. R. Martin, 1996</li><li>Podr\u00f3\u017ce z Herodotem - Ryszard Kapu\u015bci\u0144ski, 2004</li><li>Polowanie (zbi\u00f3r opowiada\u0144) - Stanis\u0142aw Lem, 1965</li><li>Powt\u00f3rka (zbi\u00f3r dzie\u0142) - Stanis\u0142aw Lem, 1979</li><li>Po\u017cytek ze smoka - Stanis\u0142aw Lem, 1993</li><li>Preludium Fundacji - Isaac Asimov, 1988</li><li>Radca stanu (powie\u015b\u0107) - Boris Akunin, 1998</li><li>Rasa drapie\u017cc\u00f3w. Teksty ostatnie - Stanis\u0142aw Lem, 2006</li><li>Rilla ze Z\u0142otego Brzegu - Lucy Maud Montgomery, 1921</li><li>Sen nocy letniej - William Szekspir, 1600</li> <img src='http://commons.wikimedia.org/wiki/Special:FilePath/MND_title_page.jpg?width=300'/><li>Sezam i inne opowiadania - Stanis\u0142aw Lem, 1954</li><li>Slavorum apostoli - Jan Pawe\u0142 II, 1985</li> <img src='http://commons.wikimedia.org/wiki/Special:FilePath/John_paul_2_coa.svg?width=300'/><li>Summa technologiae - Stanis\u0142aw Lem, 1964</li><li>Tam gdzie spadaj\u0105 anio\u0142y - Dorota Terakowska, 1998</li><li>Tomek u \u017ar\u00f3de\u0142 Amazonki - Alfred Szklarski, 1967</li><li>Tomek w Gran Chaco - Alfred Szklarski, 1987</li><li>Tomek w grobowcach faraon\u00f3w - Alfred Szklarski, 1994</li><li>Ut unum sint - Jan Pawe\u0142 II, 1995</li> <img src='http://commons.wikimedia.org/wiki/Special:FilePath/John_paul_2_coa.svg?width=300'/><li>Veritatis splendor - Jan Pawe\u0142 II, 1993</li> <img src='http://commons.wikimedia.org/wiki/Special:FilePath/John_paul_2_coa.svg?width=300'/><li>Walc stulecia - Rafa\u0142 A. Ziemkiewicz, 1998</li><li>Walet pikowy (powie\u015b\u0107) - Boris Akunin, 1998</li><li>Wampir Lestat - Anne Rice, 1985</li><li>Wizja lokalna (powie\u015b\u0107) - Stanis\u0142aw Lem, 1982</li><li>Wojna i pok\u00f3j - Lew To\u0142stoj, 1865</li> <img src='http://commons.wikimedia.org/wiki/Special:FilePath/War-and-peace_1873.gif?width=300'/><li>\u015amier\u0107 Achillesa - Boris Akunin, 1998</li><li>\u017bycie i przygody Remusa - Aleksander Majkowski, 1938</li><li>Casino Royale (powie\u015b\u0107) - Ian Fleming, 1953</li><li>Cie\u0144 kata - Gene Wolfe, 1980</li><li>Czarnoksi\u0119\u017cnik z Archipelagu - Ursula K. Le Guin, 1968</li><li>Czarownica z Portobello - Paulo Coelho, 2006</li><li>Czas patriot\u00f3w (powie\u015b\u0107) - Tom Clancy, 1987</li></ul>"
       ],
       "metadata": {},
       "output_type": "pyout",
       "prompt_number": 67,
       "text": [
        "\"<h1>Lista ksi\u0105\u017cek</h1><ul><li>V\u00e9gj\u00e1t\u00e9k (reg\u00e9ny) - Orson Scott Card</li><li>Pani Jeziora (powie\u015b\u0107) - Andrzej Sapkowski, 1999</li><li>Bellew Zawierucha - Jack London, 1912</li><li>Fa\u0142szywy trop (powie\u015b\u0107) - Henning Mankell, 1995</li><li>Bajki robot\u00f3w - Stanis\u0142aw Lem, 1964</li><li>Boles\u0142aw Chrobry (powie\u015b\u0107) - Antoni Go\u0142ubiew, 1947</li><li>De revolutionibus orbium coelestium - Miko\u0142aj Kopernik, 1543</li><li>Dzie\u0142o Wielkiego Mi\u0142osierdzia - Maria Franciszka Koz\u0142owska, 1922</li><li>Folwark zwierz\u0119cy - George Orwell, 1945</li> <img src='http://commons.wikimedia.org/wiki/Special:FilePath/Animalism_flag.svg?width=300'/><li>Hamlet - William Szekspir</li> <img src='http://commons.wikimedia.org/wiki/Special:FilePath/Hamlet_quarto_3rd.jpg?width=300'/><li>Harry Potter - J. K. Rowling, 1997</li> <img src='http://commons.wikimedia.org/wiki/Special:FilePath/Harry_Potter_wordmark.svg?width=300'/><li>Hobbit, czyli tam i z powrotem - John Ronald Reuel Tolkien, 1937</li><li>Hrabia Monte Christo - Aleksander Dumas (ojciec), 1844</li> <img src='http://commons.wikimedia.org/wiki/Special:FilePath/Louis_Fran\u00e7ais-Dant\u00e8s_sur_son_rocher.jpg?width=300'/><li>Kariera Nikodema Dyzmy - Tadeusz Do\u0142\u0119ga-Mostowicz, 1932</li><li>Krzy\u017cacy (powie\u015b\u0107) - Henryk Sienkiewicz, 1900</li> <img src='http://commons.wikimedia.org/wiki/Special:FilePath/PL_Henryk_Sienkiewicz-Krzy\u017cacy_0005.jpeg?width=300'/><li>Lolita - Vladimir Nabokov, 1955</li><li>Mein Kampf - Adolf Hitler, 1925</li> <img src='http://commons.wikimedia.org/wiki/Special:FilePath/Landsberg.Jail.jpg?width=300'/><li>Nad Niemnem - Eliza Orzeszkowa, 1888</li> <img src='http://commons.wikimedia.org/wiki/Special:FilePath/Nad_Niemnem_-_manuscript.jpg?width=300'/><li>Niedoko\u0144czone opowie\u015bci - Christopher Tolkien, 1980</li><li>Nowe Ateny - Benedykt Chmielowski, 1745</li> <img src='http://commons.wikimedia.org/wiki/Special:FilePath/Nowe_ateny1.jpg?width=300'/><li>Nowy wspania\u0142y \u015bwiat - Aldous Huxley, 1932</li><li>Ogniem i mieczem - Henryk Sienkiewicz, 1884</li> <img src='http://commons.wikimedia.org/wiki/Special:FilePath/Podbipieta.JPG?width=300'/><li>Ojciec Goriot - Honor\u00e9 de Balzac, 1835</li> <img src='http://commons.wikimedia.org/wiki/Special:FilePath/Father_Goriot_by_H._Daumier_(1842).JPG?width=300'/><li>Proces (powie\u015b\u0107) - Franz Kafka, 1925</li> <img src='http://commons.wikimedia.org/wiki/Special:FilePath/Kafka_Der_Prozess_1925.jpg?width=300'/><li>Psa\u0142terz Dawid\u00f3w - Jan Kochanowski, 1579</li> <img src='http://commons.wikimedia.org/wiki/Special:FilePath/Kochanowski_-_Psa\u0142terz_Dawid\u00f3w_(1579).jpg?width=300'/><li>Quo vadis - Henryk Sienkiewicz, 1896</li> <img src='http://commons.wikimedia.org/wiki/Special:FilePath/Rzym_popiersie_Sienkiewicza_w_kosciele_Domine_Quo_Vadis.JPG?width=300'/><li>Romeo i Julia - William Szekspir, 1597</li> <img src='http://commons.wikimedia.org/wiki/Special:FilePath/Romeo_and_juliet_brown.jpg?width=300'/><li>Silmarillion - John Ronald Reuel Tolkien, 1977</li> <img src='http://commons.wikimedia.org/wiki/Special:FilePath/Silmarrillion,_Just_under_the_Cover.jpg?width=300'/><li>Solaris (powie\u015b\u0107) - Stanis\u0142aw Lem, 1961</li> <img src='http://commons.wikimedia.org/wiki/Special:FilePath/Solaris,_various_editions_02.jpg?width=300'/><li>W\u0142adca Pier\u015bcieni - John Ronald Reuel Tolkien, 1954</li> <img src='http://commons.wikimedia.org/wiki/Special:FilePath/Unico_Anello.png?width=300'/><li>Zew Cthulhu (opowiadanie) - Howard Phillips Lovecraft, 1928</li><li>Znaczy Kapitan - Karol Olgierd Borchardt, 1960</li><li>Anna Karenina - Lew To\u0142stoj, 1877</li> <img src='http://commons.wikimedia.org/wiki/Special:FilePath/AnnaKareninaTitle.jpg?width=300'/><li>Azazel (powie\u015b\u0107) - Boris Akunin, 1998</li><li>Bezsenno\u015b\u0107 (zbi\u00f3r opowiada\u0144) - Stanis\u0142aw Lem, 1971</li><li>Ca\u0142a prawda o planecie Ksi - Janusz Zajdel, 1983</li><li>Dekorator - Boris Akunin, 1998</li><li>Diamentowa karoca - Boris Akunin, 2003</li><li>Dives in misericordia - Jan Pawe\u0142 II, 1980</li> <img src='http://commons.wikimedia.org/wiki/Special:FilePath/John_paul_2_coa.svg?width=300'/><li>Droga na molo w Wigan - George Orwell, 1937</li><li>Druga Fundacja - Isaac Asimov, 1953</li><li>Dwana\u015bcie krzese\u0142 - Ilja Ilf, 1928</li> <img src='http://commons.wikimedia.org/wiki/Special:FilePath/Ostap_Bender_Monument_in_Kharkiv.jpg?width=300'/><li>Fundacja (powie\u015b\u0107) - Isaac Asimov, 1951</li><li>Fundacja i Imperium - Isaac Asimov, 1952</li><li>Gambit turecki - Boris Akunin, 1998</li><li>G\u0142os Pana - Stanis\u0142aw Lem, 1968</li><li>Ich czworo - Gabriela Zapolska, 1907</li><li>Inwazja z Aldebarana (zbi\u00f3r opowiada\u0144) - Stanis\u0142aw Lem, 1959</li><li>Kamienna ma\u0142pa - Jeffery Deaver, 2002</li><li>Katar (powie\u015b\u0107) - Stanis\u0142aw Lem, 1976</li><li>Kochanek \u015amierci - Boris Akunin, 2001</li><li>Kochanka \u015amierci - Boris Akunin, 2001</li><li>Koronacja (powie\u015b\u0107) - Boris Akunin, 1999</li><li>Kot w stanie czystym - Terry Pratchett, 1989</li><li>Ko\u0144 i jego ch\u0142opiec - Clive Staples Lewis, 1954</li><li>Ksi\u0119ga robot\u00f3w - Stanis\u0142aw Lem, 1961</li><li>Ksi\u0119gi narodu polskiego i pielgrzymstwa polskiego - Adam Mickiewicz, 1832</li> <img src='http://commons.wikimedia.org/wiki/Special:FilePath/PL_Ksi\u0119gi_narodu_polskiego_i_pielgrzymstwa_polskiego_008.png?width=300'/><li>Kuzynki - Andrzej Pilipiuk, 2003</li><li>Lewa r\u0119ka ciemno\u015bci - Ursula K. Le Guin, 1969</li><li>Lewiatan (powie\u015b\u0107) - Boris Akunin, 1998</li><li>Mag (powie\u015b\u0107 J. Deavera) - Jeffery Deaver, 2003</li><li>Maska (zbi\u00f3r dzie\u0142) - Stanis\u0142aw Lem, 1976</li><li>Niezwyci\u0119\u017cony i inne opowiadania - Stanis\u0142aw Lem, 1964</li><li>Noc ksi\u0119\u017cycowa - Stanis\u0142aw Lem, 1963</li><li>Ojcowie i dzieci - Iwan Turgieniew, 0</li> <img src='http://commons.wikimedia.org/wiki/Special:FilePath/Otsy1880.jpg?width=300'/><li>Pami\u0119tnik znaleziony w wannie - Stanis\u0142aw Lem, 1961</li><li>Pie\u015b\u0144 Lodu i Ognia - George R. R. Martin, 1996</li><li>Podr\u00f3\u017ce z Herodotem - Ryszard Kapu\u015bci\u0144ski, 2004</li><li>Polowanie (zbi\u00f3r opowiada\u0144) - Stanis\u0142aw Lem, 1965</li><li>Powt\u00f3rka (zbi\u00f3r dzie\u0142) - Stanis\u0142aw Lem, 1979</li><li>Po\u017cytek ze smoka - Stanis\u0142aw Lem, 1993</li><li>Preludium Fundacji - Isaac Asimov, 1988</li><li>Radca stanu (powie\u015b\u0107) - Boris Akunin, 1998</li><li>Rasa drapie\u017cc\u00f3w. Teksty ostatnie - Stanis\u0142aw Lem, 2006</li><li>Rilla ze Z\u0142otego Brzegu - Lucy Maud Montgomery, 1921</li><li>Sen nocy letniej - William Szekspir, 1600</li> <img src='http://commons.wikimedia.org/wiki/Special:FilePath/MND_title_page.jpg?width=300'/><li>Sezam i inne opowiadania - Stanis\u0142aw Lem, 1954</li><li>Slavorum apostoli - Jan Pawe\u0142 II, 1985</li> <img src='http://commons.wikimedia.org/wiki/Special:FilePath/John_paul_2_coa.svg?width=300'/><li>Summa technologiae - Stanis\u0142aw Lem, 1964</li><li>Tam gdzie spadaj\u0105 anio\u0142y - Dorota Terakowska, 1998</li><li>Tomek u \u017ar\u00f3de\u0142 Amazonki - Alfred Szklarski, 1967</li><li>Tomek w Gran Chaco - Alfred Szklarski, 1987</li><li>Tomek w grobowcach faraon\u00f3w - Alfred Szklarski, 1994</li><li>Ut unum sint - Jan Pawe\u0142 II, 1995</li> <img src='http://commons.wikimedia.org/wiki/Special:FilePath/John_paul_2_coa.svg?width=300'/><li>Veritatis splendor - Jan Pawe\u0142 II, 1993</li> <img src='http://commons.wikimedia.org/wiki/Special:FilePath/John_paul_2_coa.svg?width=300'/><li>Walc stulecia - Rafa\u0142 A. Ziemkiewicz, 1998</li><li>Walet pikowy (powie\u015b\u0107) - Boris Akunin, 1998</li><li>Wampir Lestat - Anne Rice, 1985</li><li>Wizja lokalna (powie\u015b\u0107) - Stanis\u0142aw Lem, 1982</li><li>Wojna i pok\u00f3j - Lew To\u0142stoj, 1865</li> <img src='http://commons.wikimedia.org/wiki/Special:FilePath/War-and-peace_1873.gif?width=300'/><li>\u015amier\u0107 Achillesa - Boris Akunin, 1998</li><li>\u017bycie i przygody Remusa - Aleksander Majkowski, 1938</li><li>Casino Royale (powie\u015b\u0107) - Ian Fleming, 1953</li><li>Cie\u0144 kata - Gene Wolfe, 1980</li><li>Czarnoksi\u0119\u017cnik z Archipelagu - Ursula K. Le Guin, 1968</li><li>Czarownica z Portobello - Paulo Coelho, 2006</li><li>Czas patriot\u00f3w (powie\u015b\u0107) - Tom Clancy, 1987</li></ul>\""
       ]
      }
     ],
     "prompt_number": 67
    },
    {
     "cell_type": "heading",
     "level": 3,
     "metadata": {},
     "source": [
      "Zadanie 10"
     ]
    },
    {
     "cell_type": "markdown",
     "metadata": {},
     "source": [
      "Wy\u015bwietl wszystkich autor\u00f3w znajduj\u0105cych si\u0119 w bazie wraz z opisem zawieraj\u0105cym ich zdj\u0119cie, dat\u0119 urodzin i \u015bmierci oraz spis \n",
      "opublikowanych ksi\u0105\u017cek. Pami\u0119taj o odpowiednim sformatowaniu dat oraz o tym, \u017ce nie wszyscy autorzy maj\u0105 przypisane wszystkie\n",
      "informacje."
     ]
    },
    {
     "cell_type": "code",
     "collapsed": false,
     "input": [
      "def display_author()\n",
      "  html = \"<h1>Lista autor\u00f3w</h1>\"\n",
      "  authors = Author.all\n",
      "  authors.each do |author| \n",
      "    html << \"<h2>#{author.name} #{author.surname} #{author.born.strftime(\"%d-%m-%Y\")} #{author.died.strftime(\"%d-%m-%Y\")}</h2>\"\n",
      "       \n",
      "    \n",
      "    if (author.image_url != nil)\n",
      "      html << \" <img src='#{author.image_url}'/>\"\n",
      "    end\n",
      "    html << \"<br />\"\n",
      "    \n",
      "    if author.books.empty?\n",
      "      html << \"Brak danych\"\n",
      "    else\n",
      "     html << \"<b>Lista ksi\u0105\u017cek autora</b>\"\n",
      "    end\n",
      "    \n",
      "    author.books.each do |book|\n",
      "        html << \"<li>#{book.title} #{book.published}</li>\"  \n",
      "    end\n",
      "    \n",
      "  end\n",
      "        html << \"</li>\"\n",
      "end\n",
      "\n",
      "document = display_author()\n",
      "IRuby.html document\n",
      "\n"
     ],
     "language": "python",
     "metadata": {},
     "outputs": [
      {
       "ename": "NoMethodError",
       "evalue": "undefined method `strftime' for nil:NilClass",
       "output_type": "pyerr",
       "traceback": [
        "\u001b[31mNoMethodError\u001b[0m: undefined method `strftime' for nil:NilClass",
        "\u001b[37m<main>:4:in `block in display_author'\u001b[0m",
        "\u001b[37m/usr/local/rvm/gems/ruby-2.0.0-p0/gems/activerecord-4.2.0/lib/active_record/relation/delegation.rb:46:in `each'\u001b[0m",
        "\u001b[37m/usr/local/rvm/gems/ruby-2.0.0-p0/gems/activerecord-4.2.0/lib/active_record/relation/delegation.rb:46:in `each'\u001b[0m",
        "\u001b[37m<main>:3:in `display_author'\u001b[0m",
        "\u001b[37m<main>:27:in `<main>'\u001b[0m",
        "\u001b[37m/usr/local/rvm/gems/ruby-2.0.0-p0/gems/iruby-0.1.13/lib/iruby/backend.rb:8:in `eval'\u001b[0m",
        "\u001b[37m/usr/local/rvm/gems/ruby-2.0.0-p0/gems/iruby-0.1.13/lib/iruby/backend.rb:8:in `eval'\u001b[0m",
        "\u001b[37m/usr/local/rvm/gems/ruby-2.0.0-p0/gems/iruby-0.1.13/lib/iruby/kernel.rb:110:in `execute_request'\u001b[0m",
        "\u001b[37m/usr/local/rvm/gems/ruby-2.0.0-p0/gems/iruby-0.1.13/lib/iruby/kernel.rb:62:in `run'\u001b[0m",
        "\u001b[37m/usr/local/rvm/gems/ruby-2.0.0-p0/gems/iruby-0.1.13/lib/iruby/command.rb:30:in `run_kernel'\u001b[0m",
        "\u001b[37m/usr/local/rvm/gems/ruby-2.0.0-p0/gems/iruby-0.1.13/lib/iruby/command.rb:16:in `run'\u001b[0m",
        "\u001b[37m/usr/local/rvm/gems/ruby-2.0.0-p0/gems/iruby-0.1.13/bin/iruby:6:in `<top (required)>'\u001b[0m",
        "\u001b[37m/usr/local/rvm/gems/ruby-2.0.0-p0/bin/iruby:23:in `load'\u001b[0m",
        "\u001b[37m/usr/local/rvm/gems/ruby-2.0.0-p0/bin/iruby:23:in `<main>'\u001b[0m",
        "\u001b[37m/usr/local/rvm/gems/ruby-2.0.0-p0/bin/ruby_noexec_wrapper:14:in `eval'\u001b[0m",
        "\u001b[37m/usr/local/rvm/gems/ruby-2.0.0-p0/bin/ruby_noexec_wrapper:14:in `<main>'\u001b[0m"
       ]
      }
     ],
     "prompt_number": 89
    }
   ],
   "metadata": {}
  }
 ]
}